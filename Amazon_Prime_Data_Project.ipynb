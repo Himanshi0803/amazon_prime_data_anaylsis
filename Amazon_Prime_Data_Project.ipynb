{
 "cells": [
  {
   "cell_type": "markdown",
   "id": "bf5c019d",
   "metadata": {},
   "source": [
    "\n",
    "# Name:Himansi Raval "
   ]
  },
  {
   "cell_type": "markdown",
   "id": "7edfda3d",
   "metadata": {},
   "source": [
    "# Class: Bsc . Data Science  "
   ]
  },
  {
   "cell_type": "markdown",
   "id": "45c52275",
   "metadata": {},
   "source": [
    "# Roll no: 31013021015"
   ]
  },
  {
   "cell_type": "markdown",
   "id": "1c68227c",
   "metadata": {},
   "source": [
    "# Topic: Amazon Prime TV shows and Movies Analysis "
   ]
  },
  {
   "cell_type": "markdown",
   "id": "ce59a468",
   "metadata": {},
   "source": [
    "#### ________________________________________________________________________________________________________________________"
   ]
  },
  {
   "cell_type": "markdown",
   "id": "9d5329e5",
   "metadata": {},
   "source": [
    "## Import the required libraries "
   ]
  },
  {
   "cell_type": "code",
   "execution_count": 1,
   "id": "b9608fa9",
   "metadata": {},
   "outputs": [],
   "source": [
    "#Importing the pandas library for data cleaning and manipulation "
   ]
  },
  {
   "cell_type": "code",
   "execution_count": 2,
   "id": "a34e1b50",
   "metadata": {},
   "outputs": [],
   "source": [
    "import pandas as pd"
   ]
  },
  {
   "cell_type": "markdown",
   "id": "b065ec76",
   "metadata": {},
   "source": [
    "## Load the data "
   ]
  },
  {
   "cell_type": "code",
   "execution_count": 3,
   "id": "225f2eec",
   "metadata": {},
   "outputs": [],
   "source": [
    "#Reading a CSV file named \"titles.csv\" into a DataFrame and name it  'real_data'"
   ]
  },
  {
   "cell_type": "code",
   "execution_count": 4,
   "id": "8cace37e",
   "metadata": {},
   "outputs": [],
   "source": [
    "real_data= pd.read_csv(\"titles.csv\")"
   ]
  },
  {
   "cell_type": "markdown",
   "id": "8c60ae03",
   "metadata": {},
   "source": [
    "## Understanding the data "
   ]
  },
  {
   "cell_type": "code",
   "execution_count": 5,
   "id": "e9a0db5c",
   "metadata": {},
   "outputs": [
    {
     "data": {
      "text/html": [
       "<div>\n",
       "<style scoped>\n",
       "    .dataframe tbody tr th:only-of-type {\n",
       "        vertical-align: middle;\n",
       "    }\n",
       "\n",
       "    .dataframe tbody tr th {\n",
       "        vertical-align: top;\n",
       "    }\n",
       "\n",
       "    .dataframe thead th {\n",
       "        text-align: right;\n",
       "    }\n",
       "</style>\n",
       "<table border=\"1\" class=\"dataframe\">\n",
       "  <thead>\n",
       "    <tr style=\"text-align: right;\">\n",
       "      <th></th>\n",
       "      <th>id</th>\n",
       "      <th>title</th>\n",
       "      <th>type</th>\n",
       "      <th>description</th>\n",
       "      <th>release_year</th>\n",
       "      <th>age_certification</th>\n",
       "      <th>runtime</th>\n",
       "      <th>genres</th>\n",
       "      <th>production_countries</th>\n",
       "      <th>seasons</th>\n",
       "      <th>imdb_id</th>\n",
       "      <th>imdb_score</th>\n",
       "      <th>imdb_votes</th>\n",
       "      <th>tmdb_popularity</th>\n",
       "      <th>tmdb_score</th>\n",
       "    </tr>\n",
       "  </thead>\n",
       "  <tbody>\n",
       "    <tr>\n",
       "      <th>0</th>\n",
       "      <td>tm87233</td>\n",
       "      <td>It's a Wonderful Life</td>\n",
       "      <td>MOVIE</td>\n",
       "      <td>A holiday favourite for generations...  George...</td>\n",
       "      <td>1946</td>\n",
       "      <td>PG</td>\n",
       "      <td>130</td>\n",
       "      <td>['drama', 'family', 'fantasy', 'romance', 'com...</td>\n",
       "      <td>['US']</td>\n",
       "      <td>NaN</td>\n",
       "      <td>tt0038650</td>\n",
       "      <td>8.6</td>\n",
       "      <td>467766.0</td>\n",
       "      <td>27.611</td>\n",
       "      <td>8.261</td>\n",
       "    </tr>\n",
       "    <tr>\n",
       "      <th>1</th>\n",
       "      <td>tm143047</td>\n",
       "      <td>Duck Soup</td>\n",
       "      <td>MOVIE</td>\n",
       "      <td>Rufus T. Firefly is named president/dictator o...</td>\n",
       "      <td>1933</td>\n",
       "      <td>NaN</td>\n",
       "      <td>69</td>\n",
       "      <td>['comedy', 'war']</td>\n",
       "      <td>['US']</td>\n",
       "      <td>NaN</td>\n",
       "      <td>tt0023969</td>\n",
       "      <td>7.8</td>\n",
       "      <td>60933.0</td>\n",
       "      <td>9.013</td>\n",
       "      <td>7.357</td>\n",
       "    </tr>\n",
       "    <tr>\n",
       "      <th>2</th>\n",
       "      <td>tm83884</td>\n",
       "      <td>His Girl Friday</td>\n",
       "      <td>MOVIE</td>\n",
       "      <td>Hildy, the journalist former wife of newspaper...</td>\n",
       "      <td>1940</td>\n",
       "      <td>NaN</td>\n",
       "      <td>92</td>\n",
       "      <td>['drama', 'romance', 'comedy']</td>\n",
       "      <td>['US']</td>\n",
       "      <td>NaN</td>\n",
       "      <td>tt0032599</td>\n",
       "      <td>7.8</td>\n",
       "      <td>60244.0</td>\n",
       "      <td>14.759</td>\n",
       "      <td>7.433</td>\n",
       "    </tr>\n",
       "    <tr>\n",
       "      <th>3</th>\n",
       "      <td>ts20945</td>\n",
       "      <td>The Three Stooges</td>\n",
       "      <td>SHOW</td>\n",
       "      <td>The Three Stooges were an American vaudeville ...</td>\n",
       "      <td>1934</td>\n",
       "      <td>TV-PG</td>\n",
       "      <td>19</td>\n",
       "      <td>['comedy', 'family']</td>\n",
       "      <td>['US']</td>\n",
       "      <td>26.0</td>\n",
       "      <td>tt0850645</td>\n",
       "      <td>8.5</td>\n",
       "      <td>1149.0</td>\n",
       "      <td>15.424</td>\n",
       "      <td>7.600</td>\n",
       "    </tr>\n",
       "    <tr>\n",
       "      <th>4</th>\n",
       "      <td>tm5012</td>\n",
       "      <td>Red River</td>\n",
       "      <td>MOVIE</td>\n",
       "      <td>Headstrong Thomas Dunson starts a thriving Tex...</td>\n",
       "      <td>1948</td>\n",
       "      <td>NaN</td>\n",
       "      <td>133</td>\n",
       "      <td>['western', 'drama', 'romance', 'action']</td>\n",
       "      <td>['US']</td>\n",
       "      <td>NaN</td>\n",
       "      <td>tt0040724</td>\n",
       "      <td>7.8</td>\n",
       "      <td>32210.0</td>\n",
       "      <td>12.400</td>\n",
       "      <td>7.400</td>\n",
       "    </tr>\n",
       "  </tbody>\n",
       "</table>\n",
       "</div>"
      ],
      "text/plain": [
       "         id                  title   type  \\\n",
       "0   tm87233  It's a Wonderful Life  MOVIE   \n",
       "1  tm143047              Duck Soup  MOVIE   \n",
       "2   tm83884        His Girl Friday  MOVIE   \n",
       "3   ts20945      The Three Stooges   SHOW   \n",
       "4    tm5012              Red River  MOVIE   \n",
       "\n",
       "                                         description  release_year  \\\n",
       "0  A holiday favourite for generations...  George...          1946   \n",
       "1  Rufus T. Firefly is named president/dictator o...          1933   \n",
       "2  Hildy, the journalist former wife of newspaper...          1940   \n",
       "3  The Three Stooges were an American vaudeville ...          1934   \n",
       "4  Headstrong Thomas Dunson starts a thriving Tex...          1948   \n",
       "\n",
       "  age_certification  runtime  \\\n",
       "0                PG      130   \n",
       "1               NaN       69   \n",
       "2               NaN       92   \n",
       "3             TV-PG       19   \n",
       "4               NaN      133   \n",
       "\n",
       "                                              genres production_countries  \\\n",
       "0  ['drama', 'family', 'fantasy', 'romance', 'com...               ['US']   \n",
       "1                                  ['comedy', 'war']               ['US']   \n",
       "2                     ['drama', 'romance', 'comedy']               ['US']   \n",
       "3                               ['comedy', 'family']               ['US']   \n",
       "4          ['western', 'drama', 'romance', 'action']               ['US']   \n",
       "\n",
       "   seasons    imdb_id  imdb_score  imdb_votes  tmdb_popularity  tmdb_score  \n",
       "0      NaN  tt0038650         8.6    467766.0           27.611       8.261  \n",
       "1      NaN  tt0023969         7.8     60933.0            9.013       7.357  \n",
       "2      NaN  tt0032599         7.8     60244.0           14.759       7.433  \n",
       "3     26.0  tt0850645         8.5      1149.0           15.424       7.600  \n",
       "4      NaN  tt0040724         7.8     32210.0           12.400       7.400  "
      ]
     },
     "execution_count": 5,
     "metadata": {},
     "output_type": "execute_result"
    }
   ],
   "source": [
    "real_data.head()"
   ]
  },
  {
   "cell_type": "code",
   "execution_count": 6,
   "id": "7e365a64",
   "metadata": {},
   "outputs": [],
   "source": [
    "#The .shape attribute is used to get the dimensions (number of rows and columns) of real_data."
   ]
  },
  {
   "cell_type": "code",
   "execution_count": 7,
   "id": "a2ef04fb",
   "metadata": {
    "scrolled": false
   },
   "outputs": [
    {
     "data": {
      "text/plain": [
       "(10873, 15)"
      ]
     },
     "execution_count": 7,
     "metadata": {},
     "output_type": "execute_result"
    }
   ],
   "source": [
    "real_data.shape"
   ]
  },
  {
   "cell_type": "code",
   "execution_count": 8,
   "id": "9d0bab9b",
   "metadata": {},
   "outputs": [],
   "source": [
    "# .info() is used display detailed information about the real_data,including data types, non-null counts, and memory usage."
   ]
  },
  {
   "cell_type": "code",
   "execution_count": 9,
   "id": "87abc6de",
   "metadata": {
    "scrolled": true
   },
   "outputs": [
    {
     "name": "stdout",
     "output_type": "stream",
     "text": [
      "<class 'pandas.core.frame.DataFrame'>\n",
      "RangeIndex: 10873 entries, 0 to 10872\n",
      "Data columns (total 15 columns):\n",
      " #   Column                Non-Null Count  Dtype  \n",
      "---  ------                --------------  -----  \n",
      " 0   id                    10873 non-null  object \n",
      " 1   title                 10873 non-null  object \n",
      " 2   type                  10873 non-null  object \n",
      " 3   description           10729 non-null  object \n",
      " 4   release_year          10873 non-null  int64  \n",
      " 5   age_certification     3688 non-null   object \n",
      " 6   runtime               10873 non-null  int64  \n",
      " 7   genres                10873 non-null  object \n",
      " 8   production_countries  10873 non-null  object \n",
      " 9   seasons               1551 non-null   float64\n",
      " 10  imdb_id               10172 non-null  object \n",
      " 11  imdb_score            9765 non-null   float64\n",
      " 12  imdb_votes            9753 non-null   float64\n",
      " 13  tmdb_popularity       10302 non-null  float64\n",
      " 14  tmdb_score            8747 non-null   float64\n",
      "dtypes: float64(5), int64(2), object(8)\n",
      "memory usage: 1.2+ MB\n"
     ]
    }
   ],
   "source": [
    "real_data.info()"
   ]
  },
  {
   "cell_type": "code",
   "execution_count": 10,
   "id": "a8149d42",
   "metadata": {},
   "outputs": [],
   "source": [
    "#Displaying the column names of the real_data "
   ]
  },
  {
   "cell_type": "code",
   "execution_count": 11,
   "id": "2bc79e27",
   "metadata": {
    "scrolled": true
   },
   "outputs": [
    {
     "data": {
      "text/plain": [
       "Index(['id', 'title', 'type', 'description', 'release_year',\n",
       "       'age_certification', 'runtime', 'genres', 'production_countries',\n",
       "       'seasons', 'imdb_id', 'imdb_score', 'imdb_votes', 'tmdb_popularity',\n",
       "       'tmdb_score'],\n",
       "      dtype='object')"
      ]
     },
     "execution_count": 11,
     "metadata": {},
     "output_type": "execute_result"
    }
   ],
   "source": [
    "real_data.columns"
   ]
  },
  {
   "cell_type": "code",
   "execution_count": 12,
   "id": "ee53b88d",
   "metadata": {},
   "outputs": [],
   "source": [
    "#Checking and displaying the number of missing values in each column of the 'real_data' DataFrame\n",
    "# .isnull() is used to identify missing values in the'real_data', \n",
    "#then applying the .sum() method to count the number of missing values in each column."
   ]
  },
  {
   "cell_type": "code",
   "execution_count": 13,
   "id": "7483a704",
   "metadata": {},
   "outputs": [
    {
     "data": {
      "text/plain": [
       "id                         0\n",
       "title                      0\n",
       "type                       0\n",
       "description              144\n",
       "release_year               0\n",
       "age_certification       7185\n",
       "runtime                    0\n",
       "genres                     0\n",
       "production_countries       0\n",
       "seasons                 9322\n",
       "imdb_id                  701\n",
       "imdb_score              1108\n",
       "imdb_votes              1120\n",
       "tmdb_popularity          571\n",
       "tmdb_score              2126\n",
       "dtype: int64"
      ]
     },
     "execution_count": 13,
     "metadata": {},
     "output_type": "execute_result"
    }
   ],
   "source": [
    "real_data.isnull().sum()"
   ]
  },
  {
   "cell_type": "code",
   "execution_count": 14,
   "id": "e814bf08",
   "metadata": {},
   "outputs": [],
   "source": [
    "# creating my own data frame from the existing one to make changes .\n",
    "#copy() method is used to create an independent copy, allowing modifications to 'data' without affecting 'real_data'."
   ]
  },
  {
   "cell_type": "code",
   "execution_count": 15,
   "id": "5326bb2c",
   "metadata": {},
   "outputs": [],
   "source": [
    "data=real_data.copy()"
   ]
  },
  {
   "cell_type": "code",
   "execution_count": 16,
   "id": "f5c48b1e",
   "metadata": {
    "scrolled": true
   },
   "outputs": [
    {
     "data": {
      "text/html": [
       "<div>\n",
       "<style scoped>\n",
       "    .dataframe tbody tr th:only-of-type {\n",
       "        vertical-align: middle;\n",
       "    }\n",
       "\n",
       "    .dataframe tbody tr th {\n",
       "        vertical-align: top;\n",
       "    }\n",
       "\n",
       "    .dataframe thead th {\n",
       "        text-align: right;\n",
       "    }\n",
       "</style>\n",
       "<table border=\"1\" class=\"dataframe\">\n",
       "  <thead>\n",
       "    <tr style=\"text-align: right;\">\n",
       "      <th></th>\n",
       "      <th>id</th>\n",
       "      <th>title</th>\n",
       "      <th>type</th>\n",
       "      <th>description</th>\n",
       "      <th>release_year</th>\n",
       "      <th>age_certification</th>\n",
       "      <th>runtime</th>\n",
       "      <th>genres</th>\n",
       "      <th>production_countries</th>\n",
       "      <th>seasons</th>\n",
       "      <th>imdb_id</th>\n",
       "      <th>imdb_score</th>\n",
       "      <th>imdb_votes</th>\n",
       "      <th>tmdb_popularity</th>\n",
       "      <th>tmdb_score</th>\n",
       "    </tr>\n",
       "  </thead>\n",
       "  <tbody>\n",
       "    <tr>\n",
       "      <th>0</th>\n",
       "      <td>tm87233</td>\n",
       "      <td>It's a Wonderful Life</td>\n",
       "      <td>MOVIE</td>\n",
       "      <td>A holiday favourite for generations...  George...</td>\n",
       "      <td>1946</td>\n",
       "      <td>PG</td>\n",
       "      <td>130</td>\n",
       "      <td>['drama', 'family', 'fantasy', 'romance', 'com...</td>\n",
       "      <td>['US']</td>\n",
       "      <td>NaN</td>\n",
       "      <td>tt0038650</td>\n",
       "      <td>8.6</td>\n",
       "      <td>467766.0</td>\n",
       "      <td>27.611</td>\n",
       "      <td>8.261</td>\n",
       "    </tr>\n",
       "    <tr>\n",
       "      <th>1</th>\n",
       "      <td>tm143047</td>\n",
       "      <td>Duck Soup</td>\n",
       "      <td>MOVIE</td>\n",
       "      <td>Rufus T. Firefly is named president/dictator o...</td>\n",
       "      <td>1933</td>\n",
       "      <td>NaN</td>\n",
       "      <td>69</td>\n",
       "      <td>['comedy', 'war']</td>\n",
       "      <td>['US']</td>\n",
       "      <td>NaN</td>\n",
       "      <td>tt0023969</td>\n",
       "      <td>7.8</td>\n",
       "      <td>60933.0</td>\n",
       "      <td>9.013</td>\n",
       "      <td>7.357</td>\n",
       "    </tr>\n",
       "    <tr>\n",
       "      <th>2</th>\n",
       "      <td>tm83884</td>\n",
       "      <td>His Girl Friday</td>\n",
       "      <td>MOVIE</td>\n",
       "      <td>Hildy, the journalist former wife of newspaper...</td>\n",
       "      <td>1940</td>\n",
       "      <td>NaN</td>\n",
       "      <td>92</td>\n",
       "      <td>['drama', 'romance', 'comedy']</td>\n",
       "      <td>['US']</td>\n",
       "      <td>NaN</td>\n",
       "      <td>tt0032599</td>\n",
       "      <td>7.8</td>\n",
       "      <td>60244.0</td>\n",
       "      <td>14.759</td>\n",
       "      <td>7.433</td>\n",
       "    </tr>\n",
       "    <tr>\n",
       "      <th>3</th>\n",
       "      <td>ts20945</td>\n",
       "      <td>The Three Stooges</td>\n",
       "      <td>SHOW</td>\n",
       "      <td>The Three Stooges were an American vaudeville ...</td>\n",
       "      <td>1934</td>\n",
       "      <td>TV-PG</td>\n",
       "      <td>19</td>\n",
       "      <td>['comedy', 'family']</td>\n",
       "      <td>['US']</td>\n",
       "      <td>26.0</td>\n",
       "      <td>tt0850645</td>\n",
       "      <td>8.5</td>\n",
       "      <td>1149.0</td>\n",
       "      <td>15.424</td>\n",
       "      <td>7.600</td>\n",
       "    </tr>\n",
       "    <tr>\n",
       "      <th>4</th>\n",
       "      <td>tm5012</td>\n",
       "      <td>Red River</td>\n",
       "      <td>MOVIE</td>\n",
       "      <td>Headstrong Thomas Dunson starts a thriving Tex...</td>\n",
       "      <td>1948</td>\n",
       "      <td>NaN</td>\n",
       "      <td>133</td>\n",
       "      <td>['western', 'drama', 'romance', 'action']</td>\n",
       "      <td>['US']</td>\n",
       "      <td>NaN</td>\n",
       "      <td>tt0040724</td>\n",
       "      <td>7.8</td>\n",
       "      <td>32210.0</td>\n",
       "      <td>12.400</td>\n",
       "      <td>7.400</td>\n",
       "    </tr>\n",
       "  </tbody>\n",
       "</table>\n",
       "</div>"
      ],
      "text/plain": [
       "         id                  title   type  \\\n",
       "0   tm87233  It's a Wonderful Life  MOVIE   \n",
       "1  tm143047              Duck Soup  MOVIE   \n",
       "2   tm83884        His Girl Friday  MOVIE   \n",
       "3   ts20945      The Three Stooges   SHOW   \n",
       "4    tm5012              Red River  MOVIE   \n",
       "\n",
       "                                         description  release_year  \\\n",
       "0  A holiday favourite for generations...  George...          1946   \n",
       "1  Rufus T. Firefly is named president/dictator o...          1933   \n",
       "2  Hildy, the journalist former wife of newspaper...          1940   \n",
       "3  The Three Stooges were an American vaudeville ...          1934   \n",
       "4  Headstrong Thomas Dunson starts a thriving Tex...          1948   \n",
       "\n",
       "  age_certification  runtime  \\\n",
       "0                PG      130   \n",
       "1               NaN       69   \n",
       "2               NaN       92   \n",
       "3             TV-PG       19   \n",
       "4               NaN      133   \n",
       "\n",
       "                                              genres production_countries  \\\n",
       "0  ['drama', 'family', 'fantasy', 'romance', 'com...               ['US']   \n",
       "1                                  ['comedy', 'war']               ['US']   \n",
       "2                     ['drama', 'romance', 'comedy']               ['US']   \n",
       "3                               ['comedy', 'family']               ['US']   \n",
       "4          ['western', 'drama', 'romance', 'action']               ['US']   \n",
       "\n",
       "   seasons    imdb_id  imdb_score  imdb_votes  tmdb_popularity  tmdb_score  \n",
       "0      NaN  tt0038650         8.6    467766.0           27.611       8.261  \n",
       "1      NaN  tt0023969         7.8     60933.0            9.013       7.357  \n",
       "2      NaN  tt0032599         7.8     60244.0           14.759       7.433  \n",
       "3     26.0  tt0850645         8.5      1149.0           15.424       7.600  \n",
       "4      NaN  tt0040724         7.8     32210.0           12.400       7.400  "
      ]
     },
     "execution_count": 16,
     "metadata": {},
     "output_type": "execute_result"
    }
   ],
   "source": [
    "data.head(5)"
   ]
  },
  {
   "cell_type": "code",
   "execution_count": 17,
   "id": "465763d2",
   "metadata": {},
   "outputs": [
    {
     "data": {
      "text/plain": [
       "id                         0\n",
       "title                      0\n",
       "type                       0\n",
       "description              144\n",
       "release_year               0\n",
       "age_certification       7185\n",
       "runtime                    0\n",
       "genres                     0\n",
       "production_countries       0\n",
       "seasons                 9322\n",
       "imdb_id                  701\n",
       "imdb_score              1108\n",
       "imdb_votes              1120\n",
       "tmdb_popularity          571\n",
       "tmdb_score              2126\n",
       "dtype: int64"
      ]
     },
     "execution_count": 17,
     "metadata": {},
     "output_type": "execute_result"
    }
   ],
   "source": [
    "data.isnull().sum()"
   ]
  },
  {
   "cell_type": "markdown",
   "id": "974b4443",
   "metadata": {},
   "source": [
    "## Addressing missing values in specific columns required for analysis in 'data'"
   ]
  },
  {
   "cell_type": "code",
   "execution_count": 18,
   "id": "cbfe2e76",
   "metadata": {},
   "outputs": [
    {
     "data": {
      "text/plain": [
       "Index(['id', 'title', 'type', 'description', 'release_year',\n",
       "       'age_certification', 'runtime', 'genres', 'production_countries',\n",
       "       'seasons', 'imdb_id', 'imdb_score', 'imdb_votes', 'tmdb_popularity',\n",
       "       'tmdb_score'],\n",
       "      dtype='object')"
      ]
     },
     "execution_count": 18,
     "metadata": {},
     "output_type": "execute_result"
    }
   ],
   "source": [
    "data.columns"
   ]
  },
  {
   "cell_type": "markdown",
   "id": "400c2a8d",
   "metadata": {},
   "source": [
    "### column name - imdb_score  "
   ]
  },
  {
   "cell_type": "code",
   "execution_count": 19,
   "id": "e0b53ca7",
   "metadata": {},
   "outputs": [
    {
     "data": {
      "text/plain": [
       "0        8.6\n",
       "1        7.8\n",
       "2        7.8\n",
       "3        8.5\n",
       "4        7.8\n",
       "        ... \n",
       "10868    5.8\n",
       "10869    5.6\n",
       "10870    8.3\n",
       "10871    NaN\n",
       "10872    NaN\n",
       "Name: imdb_score, Length: 10873, dtype: float64"
      ]
     },
     "execution_count": 19,
     "metadata": {},
     "output_type": "execute_result"
    }
   ],
   "source": [
    "data['imdb_score']"
   ]
  },
  {
   "cell_type": "code",
   "execution_count": 20,
   "id": "64fb0375",
   "metadata": {},
   "outputs": [
    {
     "data": {
      "text/plain": [
       "1108"
      ]
     },
     "execution_count": 20,
     "metadata": {},
     "output_type": "execute_result"
    }
   ],
   "source": [
    "data['imdb_score'].isnull().sum()"
   ]
  },
  {
   "cell_type": "code",
   "execution_count": 21,
   "id": "58b8b596",
   "metadata": {},
   "outputs": [],
   "source": [
    "data['imdb_score'].fillna(0, inplace=True)"
   ]
  },
  {
   "cell_type": "code",
   "execution_count": 22,
   "id": "8779dd22",
   "metadata": {},
   "outputs": [
    {
     "data": {
      "text/plain": [
       "0"
      ]
     },
     "execution_count": 22,
     "metadata": {},
     "output_type": "execute_result"
    }
   ],
   "source": [
    "data['imdb_score'].isnull().sum()"
   ]
  },
  {
   "cell_type": "markdown",
   "id": "428f7fbf",
   "metadata": {},
   "source": [
    "### column name -  imdb_votes"
   ]
  },
  {
   "cell_type": "code",
   "execution_count": 23,
   "id": "bd9f346f",
   "metadata": {},
   "outputs": [
    {
     "data": {
      "text/plain": [
       "0        467766.0\n",
       "1         60933.0\n",
       "2         60244.0\n",
       "3          1149.0\n",
       "4         32210.0\n",
       "           ...   \n",
       "10868      1269.0\n",
       "10869       812.0\n",
       "10870        10.0\n",
       "10871         NaN\n",
       "10872         NaN\n",
       "Name: imdb_votes, Length: 10873, dtype: float64"
      ]
     },
     "execution_count": 23,
     "metadata": {},
     "output_type": "execute_result"
    }
   ],
   "source": [
    "data['imdb_votes']"
   ]
  },
  {
   "cell_type": "code",
   "execution_count": 24,
   "id": "6fd390ae",
   "metadata": {},
   "outputs": [
    {
     "data": {
      "text/plain": [
       "1120"
      ]
     },
     "execution_count": 24,
     "metadata": {},
     "output_type": "execute_result"
    }
   ],
   "source": [
    "data['imdb_votes'].isnull().sum()"
   ]
  },
  {
   "cell_type": "code",
   "execution_count": 25,
   "id": "51b9411b",
   "metadata": {},
   "outputs": [],
   "source": [
    "data['imdb_votes'].fillna(0,inplace=True)"
   ]
  },
  {
   "cell_type": "code",
   "execution_count": 26,
   "id": "a8412f90",
   "metadata": {},
   "outputs": [
    {
     "data": {
      "text/plain": [
       "0"
      ]
     },
     "execution_count": 26,
     "metadata": {},
     "output_type": "execute_result"
    }
   ],
   "source": [
    "data['imdb_votes'].isnull().sum()"
   ]
  },
  {
   "cell_type": "markdown",
   "id": "7d5e8f91",
   "metadata": {},
   "source": [
    "### column name - tmdb_popularity"
   ]
  },
  {
   "cell_type": "code",
   "execution_count": 27,
   "id": "181f939e",
   "metadata": {},
   "outputs": [
    {
     "data": {
      "text/plain": [
       "0        27.611\n",
       "1         9.013\n",
       "2        14.759\n",
       "3        15.424\n",
       "4        12.400\n",
       "          ...  \n",
       "10868     4.403\n",
       "10869     3.406\n",
       "10870     1.960\n",
       "10871     1.336\n",
       "10872       NaN\n",
       "Name: tmdb_popularity, Length: 10873, dtype: float64"
      ]
     },
     "execution_count": 27,
     "metadata": {},
     "output_type": "execute_result"
    }
   ],
   "source": [
    "data['tmdb_popularity']"
   ]
  },
  {
   "cell_type": "code",
   "execution_count": 28,
   "id": "b0eeeb7f",
   "metadata": {},
   "outputs": [
    {
     "data": {
      "text/plain": [
       "571"
      ]
     },
     "execution_count": 28,
     "metadata": {},
     "output_type": "execute_result"
    }
   ],
   "source": [
    "data['tmdb_popularity'].isnull().sum()"
   ]
  },
  {
   "cell_type": "code",
   "execution_count": 29,
   "id": "cd6ab536",
   "metadata": {},
   "outputs": [],
   "source": [
    "data['tmdb_popularity'].fillna(0,inplace=True)"
   ]
  },
  {
   "cell_type": "code",
   "execution_count": 30,
   "id": "76baa852",
   "metadata": {},
   "outputs": [
    {
     "data": {
      "text/plain": [
       "0"
      ]
     },
     "execution_count": 30,
     "metadata": {},
     "output_type": "execute_result"
    }
   ],
   "source": [
    "data['tmdb_popularity'].isnull().sum()"
   ]
  },
  {
   "cell_type": "markdown",
   "id": "4142e438",
   "metadata": {},
   "source": [
    "### column name - tmdb_score"
   ]
  },
  {
   "cell_type": "code",
   "execution_count": 31,
   "id": "9881154d",
   "metadata": {},
   "outputs": [
    {
     "data": {
      "text/plain": [
       "0        8.261\n",
       "1        7.357\n",
       "2        7.433\n",
       "3        7.600\n",
       "4        7.400\n",
       "         ...  \n",
       "10868    4.300\n",
       "10869    8.000\n",
       "10870      NaN\n",
       "10871      NaN\n",
       "10872      NaN\n",
       "Name: tmdb_score, Length: 10873, dtype: float64"
      ]
     },
     "execution_count": 31,
     "metadata": {},
     "output_type": "execute_result"
    }
   ],
   "source": [
    "data['tmdb_score']"
   ]
  },
  {
   "cell_type": "code",
   "execution_count": 32,
   "id": "3986b590",
   "metadata": {},
   "outputs": [
    {
     "data": {
      "text/plain": [
       "2126"
      ]
     },
     "execution_count": 32,
     "metadata": {},
     "output_type": "execute_result"
    }
   ],
   "source": [
    "data['tmdb_score'].isnull().sum()"
   ]
  },
  {
   "cell_type": "code",
   "execution_count": 33,
   "id": "bd9d6cc8",
   "metadata": {},
   "outputs": [],
   "source": [
    "data['tmdb_score'].fillna(0,inplace=True)"
   ]
  },
  {
   "cell_type": "code",
   "execution_count": 34,
   "id": "325fc61c",
   "metadata": {},
   "outputs": [
    {
     "data": {
      "text/plain": [
       "0"
      ]
     },
     "execution_count": 34,
     "metadata": {},
     "output_type": "execute_result"
    }
   ],
   "source": [
    "data['tmdb_score'].isnull().sum()"
   ]
  },
  {
   "cell_type": "markdown",
   "id": "224b8584",
   "metadata": {},
   "source": [
    "### column name - genres"
   ]
  },
  {
   "cell_type": "code",
   "execution_count": 35,
   "id": "412da583",
   "metadata": {},
   "outputs": [
    {
     "data": {
      "text/plain": [
       "0        ['drama', 'family', 'fantasy', 'romance', 'com...\n",
       "1                                        ['comedy', 'war']\n",
       "2                           ['drama', 'romance', 'comedy']\n",
       "3                                     ['comedy', 'family']\n",
       "4                ['western', 'drama', 'romance', 'action']\n",
       "                               ...                        \n",
       "10868                      ['action', 'thriller', 'crime']\n",
       "10869                                  ['drama', 'comedy']\n",
       "10870                                           ['comedy']\n",
       "10871                                                   []\n",
       "10872                                            ['drama']\n",
       "Name: genres, Length: 10873, dtype: object"
      ]
     },
     "execution_count": 35,
     "metadata": {},
     "output_type": "execute_result"
    }
   ],
   "source": [
    "data['genres']"
   ]
  },
  {
   "cell_type": "code",
   "execution_count": 36,
   "id": "b9806974",
   "metadata": {},
   "outputs": [],
   "source": [
    "# Replacing empty lists in the 'genres' column with the value 'unknown' in the 'data' DataFrame\n",
    "data['genres'] = data['genres'].replace('[]', 'unknown')"
   ]
  },
  {
   "cell_type": "markdown",
   "id": "ca0226fb",
   "metadata": {},
   "source": [
    "## Droppping columns which are not necessary "
   ]
  },
  {
   "cell_type": "code",
   "execution_count": 37,
   "id": "42b5a431",
   "metadata": {},
   "outputs": [
    {
     "data": {
      "text/html": [
       "<div>\n",
       "<style scoped>\n",
       "    .dataframe tbody tr th:only-of-type {\n",
       "        vertical-align: middle;\n",
       "    }\n",
       "\n",
       "    .dataframe tbody tr th {\n",
       "        vertical-align: top;\n",
       "    }\n",
       "\n",
       "    .dataframe thead th {\n",
       "        text-align: right;\n",
       "    }\n",
       "</style>\n",
       "<table border=\"1\" class=\"dataframe\">\n",
       "  <thead>\n",
       "    <tr style=\"text-align: right;\">\n",
       "      <th></th>\n",
       "      <th>id</th>\n",
       "      <th>title</th>\n",
       "      <th>type</th>\n",
       "      <th>description</th>\n",
       "      <th>release_year</th>\n",
       "      <th>age_certification</th>\n",
       "      <th>runtime</th>\n",
       "      <th>genres</th>\n",
       "      <th>production_countries</th>\n",
       "      <th>seasons</th>\n",
       "      <th>imdb_id</th>\n",
       "      <th>imdb_score</th>\n",
       "      <th>imdb_votes</th>\n",
       "      <th>tmdb_popularity</th>\n",
       "      <th>tmdb_score</th>\n",
       "    </tr>\n",
       "  </thead>\n",
       "  <tbody>\n",
       "    <tr>\n",
       "      <th>0</th>\n",
       "      <td>tm87233</td>\n",
       "      <td>It's a Wonderful Life</td>\n",
       "      <td>MOVIE</td>\n",
       "      <td>A holiday favourite for generations...  George...</td>\n",
       "      <td>1946</td>\n",
       "      <td>PG</td>\n",
       "      <td>130</td>\n",
       "      <td>['drama', 'family', 'fantasy', 'romance', 'com...</td>\n",
       "      <td>['US']</td>\n",
       "      <td>NaN</td>\n",
       "      <td>tt0038650</td>\n",
       "      <td>8.6</td>\n",
       "      <td>467766.0</td>\n",
       "      <td>27.611</td>\n",
       "      <td>8.261</td>\n",
       "    </tr>\n",
       "    <tr>\n",
       "      <th>1</th>\n",
       "      <td>tm143047</td>\n",
       "      <td>Duck Soup</td>\n",
       "      <td>MOVIE</td>\n",
       "      <td>Rufus T. Firefly is named president/dictator o...</td>\n",
       "      <td>1933</td>\n",
       "      <td>NaN</td>\n",
       "      <td>69</td>\n",
       "      <td>['comedy', 'war']</td>\n",
       "      <td>['US']</td>\n",
       "      <td>NaN</td>\n",
       "      <td>tt0023969</td>\n",
       "      <td>7.8</td>\n",
       "      <td>60933.0</td>\n",
       "      <td>9.013</td>\n",
       "      <td>7.357</td>\n",
       "    </tr>\n",
       "    <tr>\n",
       "      <th>2</th>\n",
       "      <td>tm83884</td>\n",
       "      <td>His Girl Friday</td>\n",
       "      <td>MOVIE</td>\n",
       "      <td>Hildy, the journalist former wife of newspaper...</td>\n",
       "      <td>1940</td>\n",
       "      <td>NaN</td>\n",
       "      <td>92</td>\n",
       "      <td>['drama', 'romance', 'comedy']</td>\n",
       "      <td>['US']</td>\n",
       "      <td>NaN</td>\n",
       "      <td>tt0032599</td>\n",
       "      <td>7.8</td>\n",
       "      <td>60244.0</td>\n",
       "      <td>14.759</td>\n",
       "      <td>7.433</td>\n",
       "    </tr>\n",
       "    <tr>\n",
       "      <th>3</th>\n",
       "      <td>ts20945</td>\n",
       "      <td>The Three Stooges</td>\n",
       "      <td>SHOW</td>\n",
       "      <td>The Three Stooges were an American vaudeville ...</td>\n",
       "      <td>1934</td>\n",
       "      <td>TV-PG</td>\n",
       "      <td>19</td>\n",
       "      <td>['comedy', 'family']</td>\n",
       "      <td>['US']</td>\n",
       "      <td>26.0</td>\n",
       "      <td>tt0850645</td>\n",
       "      <td>8.5</td>\n",
       "      <td>1149.0</td>\n",
       "      <td>15.424</td>\n",
       "      <td>7.600</td>\n",
       "    </tr>\n",
       "    <tr>\n",
       "      <th>4</th>\n",
       "      <td>tm5012</td>\n",
       "      <td>Red River</td>\n",
       "      <td>MOVIE</td>\n",
       "      <td>Headstrong Thomas Dunson starts a thriving Tex...</td>\n",
       "      <td>1948</td>\n",
       "      <td>NaN</td>\n",
       "      <td>133</td>\n",
       "      <td>['western', 'drama', 'romance', 'action']</td>\n",
       "      <td>['US']</td>\n",
       "      <td>NaN</td>\n",
       "      <td>tt0040724</td>\n",
       "      <td>7.8</td>\n",
       "      <td>32210.0</td>\n",
       "      <td>12.400</td>\n",
       "      <td>7.400</td>\n",
       "    </tr>\n",
       "  </tbody>\n",
       "</table>\n",
       "</div>"
      ],
      "text/plain": [
       "         id                  title   type  \\\n",
       "0   tm87233  It's a Wonderful Life  MOVIE   \n",
       "1  tm143047              Duck Soup  MOVIE   \n",
       "2   tm83884        His Girl Friday  MOVIE   \n",
       "3   ts20945      The Three Stooges   SHOW   \n",
       "4    tm5012              Red River  MOVIE   \n",
       "\n",
       "                                         description  release_year  \\\n",
       "0  A holiday favourite for generations...  George...          1946   \n",
       "1  Rufus T. Firefly is named president/dictator o...          1933   \n",
       "2  Hildy, the journalist former wife of newspaper...          1940   \n",
       "3  The Three Stooges were an American vaudeville ...          1934   \n",
       "4  Headstrong Thomas Dunson starts a thriving Tex...          1948   \n",
       "\n",
       "  age_certification  runtime  \\\n",
       "0                PG      130   \n",
       "1               NaN       69   \n",
       "2               NaN       92   \n",
       "3             TV-PG       19   \n",
       "4               NaN      133   \n",
       "\n",
       "                                              genres production_countries  \\\n",
       "0  ['drama', 'family', 'fantasy', 'romance', 'com...               ['US']   \n",
       "1                                  ['comedy', 'war']               ['US']   \n",
       "2                     ['drama', 'romance', 'comedy']               ['US']   \n",
       "3                               ['comedy', 'family']               ['US']   \n",
       "4          ['western', 'drama', 'romance', 'action']               ['US']   \n",
       "\n",
       "   seasons    imdb_id  imdb_score  imdb_votes  tmdb_popularity  tmdb_score  \n",
       "0      NaN  tt0038650         8.6    467766.0           27.611       8.261  \n",
       "1      NaN  tt0023969         7.8     60933.0            9.013       7.357  \n",
       "2      NaN  tt0032599         7.8     60244.0           14.759       7.433  \n",
       "3     26.0  tt0850645         8.5      1149.0           15.424       7.600  \n",
       "4      NaN  tt0040724         7.8     32210.0           12.400       7.400  "
      ]
     },
     "execution_count": 37,
     "metadata": {},
     "output_type": "execute_result"
    }
   ],
   "source": [
    "data.head()"
   ]
  },
  {
   "cell_type": "code",
   "execution_count": 38,
   "id": "9c90b4f3",
   "metadata": {
    "scrolled": false
   },
   "outputs": [
    {
     "data": {
      "text/plain": [
       "Index(['id', 'title', 'type', 'description', 'release_year',\n",
       "       'age_certification', 'runtime', 'genres', 'production_countries',\n",
       "       'seasons', 'imdb_id', 'imdb_score', 'imdb_votes', 'tmdb_popularity',\n",
       "       'tmdb_score'],\n",
       "      dtype='object')"
      ]
     },
     "execution_count": 38,
     "metadata": {},
     "output_type": "execute_result"
    }
   ],
   "source": [
    "data.columns"
   ]
  },
  {
   "cell_type": "code",
   "execution_count": 39,
   "id": "386e4eac",
   "metadata": {},
   "outputs": [],
   "source": [
    "data.drop(columns=['id','description','age_certification','seasons','imdb_id'],inplace=True)"
   ]
  },
  {
   "cell_type": "code",
   "execution_count": 40,
   "id": "4f2c8f08",
   "metadata": {},
   "outputs": [
    {
     "data": {
      "text/plain": [
       "title                   0\n",
       "type                    0\n",
       "release_year            0\n",
       "runtime                 0\n",
       "genres                  0\n",
       "production_countries    0\n",
       "imdb_score              0\n",
       "imdb_votes              0\n",
       "tmdb_popularity         0\n",
       "tmdb_score              0\n",
       "dtype: int64"
      ]
     },
     "execution_count": 40,
     "metadata": {},
     "output_type": "execute_result"
    }
   ],
   "source": [
    "data.isnull().sum()"
   ]
  },
  {
   "cell_type": "code",
   "execution_count": 41,
   "id": "52b11d92",
   "metadata": {},
   "outputs": [],
   "source": [
    "data.to_excel('mydata.xlsx', index=False)"
   ]
  },
  {
   "cell_type": "markdown",
   "id": "a349c123",
   "metadata": {},
   "source": [
    "# ---------------------------------------------------------------------------------------------------------------"
   ]
  },
  {
   "cell_type": "markdown",
   "id": "9fb05afd",
   "metadata": {},
   "source": [
    "# MODEL CREATION "
   ]
  },
  {
   "cell_type": "code",
   "execution_count": 42,
   "id": "a0c30d78",
   "metadata": {},
   "outputs": [
    {
     "data": {
      "text/html": [
       "<div>\n",
       "<style scoped>\n",
       "    .dataframe tbody tr th:only-of-type {\n",
       "        vertical-align: middle;\n",
       "    }\n",
       "\n",
       "    .dataframe tbody tr th {\n",
       "        vertical-align: top;\n",
       "    }\n",
       "\n",
       "    .dataframe thead th {\n",
       "        text-align: right;\n",
       "    }\n",
       "</style>\n",
       "<table border=\"1\" class=\"dataframe\">\n",
       "  <thead>\n",
       "    <tr style=\"text-align: right;\">\n",
       "      <th></th>\n",
       "      <th>title</th>\n",
       "      <th>type</th>\n",
       "      <th>release_year</th>\n",
       "      <th>runtime</th>\n",
       "      <th>genres</th>\n",
       "      <th>production_countries</th>\n",
       "      <th>imdb_score</th>\n",
       "      <th>imdb_votes</th>\n",
       "      <th>tmdb_popularity</th>\n",
       "      <th>tmdb_score</th>\n",
       "    </tr>\n",
       "  </thead>\n",
       "  <tbody>\n",
       "    <tr>\n",
       "      <th>0</th>\n",
       "      <td>It's a Wonderful Life</td>\n",
       "      <td>MOVIE</td>\n",
       "      <td>1946</td>\n",
       "      <td>130</td>\n",
       "      <td>['drama', 'family', 'fantasy', 'romance', 'com...</td>\n",
       "      <td>['US']</td>\n",
       "      <td>8.6</td>\n",
       "      <td>467766.0</td>\n",
       "      <td>27.611</td>\n",
       "      <td>8.261</td>\n",
       "    </tr>\n",
       "    <tr>\n",
       "      <th>1</th>\n",
       "      <td>Duck Soup</td>\n",
       "      <td>MOVIE</td>\n",
       "      <td>1933</td>\n",
       "      <td>69</td>\n",
       "      <td>['comedy', 'war']</td>\n",
       "      <td>['US']</td>\n",
       "      <td>7.8</td>\n",
       "      <td>60933.0</td>\n",
       "      <td>9.013</td>\n",
       "      <td>7.357</td>\n",
       "    </tr>\n",
       "    <tr>\n",
       "      <th>2</th>\n",
       "      <td>His Girl Friday</td>\n",
       "      <td>MOVIE</td>\n",
       "      <td>1940</td>\n",
       "      <td>92</td>\n",
       "      <td>['drama', 'romance', 'comedy']</td>\n",
       "      <td>['US']</td>\n",
       "      <td>7.8</td>\n",
       "      <td>60244.0</td>\n",
       "      <td>14.759</td>\n",
       "      <td>7.433</td>\n",
       "    </tr>\n",
       "    <tr>\n",
       "      <th>3</th>\n",
       "      <td>The Three Stooges</td>\n",
       "      <td>SHOW</td>\n",
       "      <td>1934</td>\n",
       "      <td>19</td>\n",
       "      <td>['comedy', 'family']</td>\n",
       "      <td>['US']</td>\n",
       "      <td>8.5</td>\n",
       "      <td>1149.0</td>\n",
       "      <td>15.424</td>\n",
       "      <td>7.600</td>\n",
       "    </tr>\n",
       "    <tr>\n",
       "      <th>4</th>\n",
       "      <td>Red River</td>\n",
       "      <td>MOVIE</td>\n",
       "      <td>1948</td>\n",
       "      <td>133</td>\n",
       "      <td>['western', 'drama', 'romance', 'action']</td>\n",
       "      <td>['US']</td>\n",
       "      <td>7.8</td>\n",
       "      <td>32210.0</td>\n",
       "      <td>12.400</td>\n",
       "      <td>7.400</td>\n",
       "    </tr>\n",
       "  </tbody>\n",
       "</table>\n",
       "</div>"
      ],
      "text/plain": [
       "                   title   type  release_year  runtime  \\\n",
       "0  It's a Wonderful Life  MOVIE          1946      130   \n",
       "1              Duck Soup  MOVIE          1933       69   \n",
       "2        His Girl Friday  MOVIE          1940       92   \n",
       "3      The Three Stooges   SHOW          1934       19   \n",
       "4              Red River  MOVIE          1948      133   \n",
       "\n",
       "                                              genres production_countries  \\\n",
       "0  ['drama', 'family', 'fantasy', 'romance', 'com...               ['US']   \n",
       "1                                  ['comedy', 'war']               ['US']   \n",
       "2                     ['drama', 'romance', 'comedy']               ['US']   \n",
       "3                               ['comedy', 'family']               ['US']   \n",
       "4          ['western', 'drama', 'romance', 'action']               ['US']   \n",
       "\n",
       "   imdb_score  imdb_votes  tmdb_popularity  tmdb_score  \n",
       "0         8.6    467766.0           27.611       8.261  \n",
       "1         7.8     60933.0            9.013       7.357  \n",
       "2         7.8     60244.0           14.759       7.433  \n",
       "3         8.5      1149.0           15.424       7.600  \n",
       "4         7.8     32210.0           12.400       7.400  "
      ]
     },
     "execution_count": 42,
     "metadata": {},
     "output_type": "execute_result"
    }
   ],
   "source": [
    "data.head()"
   ]
  },
  {
   "cell_type": "code",
   "execution_count": 43,
   "id": "0a100ef5",
   "metadata": {},
   "outputs": [],
   "source": [
    "#Importing libraries needed for creation of  model "
   ]
  },
  {
   "cell_type": "code",
   "execution_count": 44,
   "id": "da456fc1",
   "metadata": {},
   "outputs": [],
   "source": [
    "from sklearn.feature_extraction.text import TfidfVectorizer\n",
    "from sklearn.metrics.pairwise import linear_kernel"
   ]
  },
  {
   "cell_type": "code",
   "execution_count": 45,
   "id": "b01f2760",
   "metadata": {},
   "outputs": [],
   "source": [
    "#'title' is the column containing movie/TV show titles\n",
    "#'genres' is the column containing genre information"
   ]
  },
  {
   "cell_type": "code",
   "execution_count": 46,
   "id": "b3ced4a0",
   "metadata": {},
   "outputs": [],
   "source": [
    "titles = data['title']\n",
    "genres = data['genres']"
   ]
  },
  {
   "cell_type": "code",
   "execution_count": 47,
   "id": "2e8be25f",
   "metadata": {},
   "outputs": [],
   "source": [
    "# Create a TF-IDF Vectorizer for genres"
   ]
  },
  {
   "cell_type": "code",
   "execution_count": 48,
   "id": "fc146594",
   "metadata": {},
   "outputs": [],
   "source": [
    "tfidf_vectorizer = TfidfVectorizer(stop_words='english')\n",
    "tfidf_matrix = tfidf_vectorizer.fit_transform(genres)"
   ]
  },
  {
   "cell_type": "code",
   "execution_count": 49,
   "id": "2c507498",
   "metadata": {},
   "outputs": [],
   "source": [
    "# Find the index of the input title\n",
    "# Calculate cosine similarity between the input title and all other titles\n",
    "# Get indices of top similar titles\n",
    "# Exclude the input title from recommendations\n",
    "# Return recommended titles"
   ]
  },
  {
   "cell_type": "code",
   "execution_count": 50,
   "id": "0e203b7f",
   "metadata": {},
   "outputs": [],
   "source": [
    "def recommendations(input_title, num_recommendations=5):\n",
    "    input_index = titles.index[titles.str.lower() == input_title.lower()].tolist()[0]\n",
    "    cosine_similarities = linear_kernel(tfidf_matrix[input_index],tfidf_matrix).flatten()\n",
    "    similar_titles_indices = cosine_similarities.argsort()[:-num_recommendations-2:-1]\n",
    "    similar_titles_indices = [idx for idx in similar_titles_indices if idx != input_index]\n",
    "    return titles.iloc[similar_titles_indices]\n"
   ]
  },
  {
   "cell_type": "code",
   "execution_count": 51,
   "id": "65d09882",
   "metadata": {},
   "outputs": [],
   "source": [
    "#sample of titles for checking the recommendation "
   ]
  },
  {
   "cell_type": "code",
   "execution_count": 68,
   "id": "098bec6a",
   "metadata": {},
   "outputs": [
    {
     "data": {
      "text/plain": [
       "7637                     The Jack in the Box\n",
       "1585    The Wackiest Wagon Train In The West\n",
       "3997                              Black Gold\n",
       "9892                         Her Name Was Jo\n",
       "467                                 Hi-De-Ho\n",
       "6898               Zakir Khan: Haq Se Single\n",
       "7694                                  Cosmos\n",
       "3133         Chicago Massacre: Richard Speck\n",
       "5732                             Cup of Love\n",
       "8168                             Prassthanam\n",
       "930                                Sri Valli\n",
       "4806                                    Stay\n",
       "2899                               Baby Mama\n",
       "3131                                  Tobruk\n",
       "5899                  Pinkfong! Animal Songs\n",
       "Name: title, dtype: object"
      ]
     },
     "execution_count": 68,
     "metadata": {},
     "output_type": "execute_result"
    }
   ],
   "source": [
    "data['title'].sample(n=15)"
   ]
  },
  {
   "cell_type": "code",
   "execution_count": 64,
   "id": "4242d86c",
   "metadata": {},
   "outputs": [],
   "source": [
    "#Get recommendations for a specific title on the basis of genre "
   ]
  },
  {
   "cell_type": "code",
   "execution_count": 70,
   "id": "f9ab984b",
   "metadata": {},
   "outputs": [
    {
     "name": "stdout",
     "output_type": "stream",
     "text": [
      "7422                      Hanna\n",
      "8595                   Bharaate\n",
      "4848                   The Shop\n",
      "747     Omoo-Omoo the Shark God\n",
      "7119                   Kaathadi\n",
      "9982                Yuvarathnaa\n",
      "Name: title, dtype: object\n"
     ]
    }
   ],
   "source": [
    "input_title = \"Prassthanam\"\n",
    "recommended_list = recommendations(input_title)\n",
    "print(recommended_list)"
   ]
  },
  {
   "cell_type": "code",
   "execution_count": null,
   "id": "76f4fccd",
   "metadata": {},
   "outputs": [],
   "source": []
  }
 ],
 "metadata": {
  "kernelspec": {
   "display_name": "Python 3 (ipykernel)",
   "language": "python",
   "name": "python3"
  },
  "language_info": {
   "codemirror_mode": {
    "name": "ipython",
    "version": 3
   },
   "file_extension": ".py",
   "mimetype": "text/x-python",
   "name": "python",
   "nbconvert_exporter": "python",
   "pygments_lexer": "ipython3",
   "version": "3.10.9"
  }
 },
 "nbformat": 4,
 "nbformat_minor": 5
}
